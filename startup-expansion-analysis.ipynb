{
 "cells": [
  {
   "cell_type": "code",
   "execution_count": 202,
   "metadata": {},
   "outputs": [],
   "source": [
    "import numpy as np\n",
    "import pandas as pd\n",
    "import matplotlib.pyplot as plt\n",
    "import seaborn as sns"
   ]
  },
  {
   "cell_type": "markdown",
   "metadata": {},
   "source": [
    "## Load Data"
   ]
  },
  {
   "cell_type": "code",
   "execution_count": 203,
   "metadata": {},
   "outputs": [
    {
     "data": {
      "text/html": [
       "<div>\n",
       "<style scoped>\n",
       "    .dataframe tbody tr th:only-of-type {\n",
       "        vertical-align: middle;\n",
       "    }\n",
       "\n",
       "    .dataframe tbody tr th {\n",
       "        vertical-align: top;\n",
       "    }\n",
       "\n",
       "    .dataframe thead th {\n",
       "        text-align: right;\n",
       "    }\n",
       "</style>\n",
       "<table border=\"1\" class=\"dataframe\">\n",
       "  <thead>\n",
       "    <tr style=\"text-align: right;\">\n",
       "      <th></th>\n",
       "      <th>Store ID</th>\n",
       "      <th>City</th>\n",
       "      <th>State</th>\n",
       "      <th>Sales Region</th>\n",
       "      <th>New Expansion</th>\n",
       "      <th>Marketing Spend</th>\n",
       "      <th>Revenue</th>\n",
       "    </tr>\n",
       "  </thead>\n",
       "  <tbody>\n",
       "    <tr>\n",
       "      <th>145</th>\n",
       "      <td>146</td>\n",
       "      <td>Paterson</td>\n",
       "      <td>New Jersey</td>\n",
       "      <td>Region 1</td>\n",
       "      <td>New</td>\n",
       "      <td>2251</td>\n",
       "      <td>34603</td>\n",
       "    </tr>\n",
       "    <tr>\n",
       "      <th>146</th>\n",
       "      <td>147</td>\n",
       "      <td>Brownsville</td>\n",
       "      <td>Texas</td>\n",
       "      <td>Region 2</td>\n",
       "      <td>New</td>\n",
       "      <td>3675</td>\n",
       "      <td>63148</td>\n",
       "    </tr>\n",
       "    <tr>\n",
       "      <th>147</th>\n",
       "      <td>148</td>\n",
       "      <td>Rockford</td>\n",
       "      <td>Illinois</td>\n",
       "      <td>Region 1</td>\n",
       "      <td>New</td>\n",
       "      <td>2648</td>\n",
       "      <td>43377</td>\n",
       "    </tr>\n",
       "    <tr>\n",
       "      <th>148</th>\n",
       "      <td>149</td>\n",
       "      <td>College Station</td>\n",
       "      <td>Texas</td>\n",
       "      <td>Region 2</td>\n",
       "      <td>New</td>\n",
       "      <td>2994</td>\n",
       "      <td>22457</td>\n",
       "    </tr>\n",
       "    <tr>\n",
       "      <th>149</th>\n",
       "      <td>150</td>\n",
       "      <td>Thousand Oaks</td>\n",
       "      <td>California</td>\n",
       "      <td>Region 2</td>\n",
       "      <td>NaN</td>\n",
       "      <td>2431</td>\n",
       "      <td>40141</td>\n",
       "    </tr>\n",
       "  </tbody>\n",
       "</table>\n",
       "</div>"
      ],
      "text/plain": [
       "     Store ID             City       State Sales Region New Expansion  \\\n",
       "145       146         Paterson  New Jersey     Region 1           New   \n",
       "146       147      Brownsville       Texas     Region 2           New   \n",
       "147       148         Rockford    Illinois     Region 1           New   \n",
       "148       149  College Station       Texas     Region 2           New   \n",
       "149       150    Thousand Oaks  California     Region 2           NaN   \n",
       "\n",
       "     Marketing Spend  Revenue  \n",
       "145             2251    34603  \n",
       "146             3675    63148  \n",
       "147             2648    43377  \n",
       "148             2994    22457  \n",
       "149             2431    40141  "
      ]
     },
     "execution_count": 203,
     "metadata": {},
     "output_type": "execute_result"
    }
   ],
   "source": [
    "df = pd.read_excel('startup-expansion.xlsx')\n",
    "df.tail()"
   ]
  },
  {
   "cell_type": "code",
   "execution_count": 204,
   "metadata": {},
   "outputs": [
    {
     "data": {
      "text/plain": [
       "(150, 7)"
      ]
     },
     "execution_count": 204,
     "metadata": {},
     "output_type": "execute_result"
    }
   ],
   "source": [
    "# number of columns and rows\n",
    "df.shape"
   ]
  },
  {
   "cell_type": "code",
   "execution_count": 205,
   "metadata": {},
   "outputs": [],
   "source": [
    "startup = df.copy()"
   ]
  },
  {
   "cell_type": "code",
   "execution_count": 206,
   "metadata": {},
   "outputs": [
    {
     "data": {
      "text/plain": [
       "Index(['Store ID', 'City', 'State', 'Sales Region', 'New Expansion',\n",
       "       'Marketing Spend', 'Revenue'],\n",
       "      dtype='object')"
      ]
     },
     "execution_count": 206,
     "metadata": {},
     "output_type": "execute_result"
    }
   ],
   "source": [
    "startup.columns"
   ]
  },
  {
   "cell_type": "code",
   "execution_count": 207,
   "metadata": {},
   "outputs": [
    {
     "data": {
      "text/plain": [
       "Store ID            int64\n",
       "City               object\n",
       "State              object\n",
       "Sales Region       object\n",
       "New Expansion      object\n",
       "Marketing Spend     int64\n",
       "Revenue             int64\n",
       "dtype: object"
      ]
     },
     "execution_count": 207,
     "metadata": {},
     "output_type": "execute_result"
    }
   ],
   "source": [
    "startup.dtypes"
   ]
  },
  {
   "cell_type": "code",
   "execution_count": 208,
   "metadata": {},
   "outputs": [
    {
     "name": "stdout",
     "output_type": "stream",
     "text": [
      "<class 'pandas.core.frame.DataFrame'>\n",
      "RangeIndex: 150 entries, 0 to 149\n",
      "Data columns (total 7 columns):\n",
      " #   Column           Non-Null Count  Dtype \n",
      "---  ------           --------------  ----- \n",
      " 0   Store ID         150 non-null    int64 \n",
      " 1   City             150 non-null    object\n",
      " 2   State            150 non-null    object\n",
      " 3   Sales Region     150 non-null    object\n",
      " 4   New Expansion    149 non-null    object\n",
      " 5   Marketing Spend  150 non-null    int64 \n",
      " 6   Revenue          150 non-null    int64 \n",
      "dtypes: int64(3), object(4)\n",
      "memory usage: 8.3+ KB\n"
     ]
    }
   ],
   "source": [
    "startup.info()"
   ]
  },
  {
   "cell_type": "code",
   "execution_count": 209,
   "metadata": {},
   "outputs": [
    {
     "data": {
      "text/html": [
       "<div>\n",
       "<style scoped>\n",
       "    .dataframe tbody tr th:only-of-type {\n",
       "        vertical-align: middle;\n",
       "    }\n",
       "\n",
       "    .dataframe tbody tr th {\n",
       "        vertical-align: top;\n",
       "    }\n",
       "\n",
       "    .dataframe thead th {\n",
       "        text-align: right;\n",
       "    }\n",
       "</style>\n",
       "<table border=\"1\" class=\"dataframe\">\n",
       "  <thead>\n",
       "    <tr style=\"text-align: right;\">\n",
       "      <th></th>\n",
       "      <th>Marketing Spend</th>\n",
       "      <th>Revenue</th>\n",
       "    </tr>\n",
       "  </thead>\n",
       "  <tbody>\n",
       "    <tr>\n",
       "      <th>count</th>\n",
       "      <td>150.000000</td>\n",
       "      <td>150.000000</td>\n",
       "    </tr>\n",
       "    <tr>\n",
       "      <th>mean</th>\n",
       "      <td>2893.146667</td>\n",
       "      <td>39301.433333</td>\n",
       "    </tr>\n",
       "    <tr>\n",
       "      <th>std</th>\n",
       "      <td>367.862817</td>\n",
       "      <td>15465.753977</td>\n",
       "    </tr>\n",
       "    <tr>\n",
       "      <th>min</th>\n",
       "      <td>1811.000000</td>\n",
       "      <td>15562.000000</td>\n",
       "    </tr>\n",
       "    <tr>\n",
       "      <th>25%</th>\n",
       "      <td>2662.250000</td>\n",
       "      <td>21113.500000</td>\n",
       "    </tr>\n",
       "    <tr>\n",
       "      <th>50%</th>\n",
       "      <td>2898.000000</td>\n",
       "      <td>42993.000000</td>\n",
       "    </tr>\n",
       "    <tr>\n",
       "      <th>75%</th>\n",
       "      <td>3111.500000</td>\n",
       "      <td>51145.500000</td>\n",
       "    </tr>\n",
       "    <tr>\n",
       "      <th>max</th>\n",
       "      <td>3984.000000</td>\n",
       "      <td>68828.000000</td>\n",
       "    </tr>\n",
       "  </tbody>\n",
       "</table>\n",
       "</div>"
      ],
      "text/plain": [
       "       Marketing Spend       Revenue\n",
       "count       150.000000    150.000000\n",
       "mean       2893.146667  39301.433333\n",
       "std         367.862817  15465.753977\n",
       "min        1811.000000  15562.000000\n",
       "25%        2662.250000  21113.500000\n",
       "50%        2898.000000  42993.000000\n",
       "75%        3111.500000  51145.500000\n",
       "max        3984.000000  68828.000000"
      ]
     },
     "execution_count": 209,
     "metadata": {},
     "output_type": "execute_result"
    }
   ],
   "source": [
    "startup[['Marketing Spend', 'Revenue']].describe()"
   ]
  },
  {
   "cell_type": "markdown",
   "metadata": {},
   "source": [
    "## Data Preprocessing"
   ]
  },
  {
   "cell_type": "code",
   "execution_count": 210,
   "metadata": {
    "scrolled": true
   },
   "outputs": [
    {
     "data": {
      "text/plain": [
       "Store ID           0\n",
       "City               0\n",
       "State              0\n",
       "Sales Region       0\n",
       "New Expansion      1\n",
       "Marketing Spend    0\n",
       "Revenue            0\n",
       "dtype: int64"
      ]
     },
     "execution_count": 210,
     "metadata": {},
     "output_type": "execute_result"
    }
   ],
   "source": [
    "startup.isna().sum()"
   ]
  },
  {
   "cell_type": "code",
   "execution_count": 211,
   "metadata": {},
   "outputs": [],
   "source": [
    "startup.dropna(subset=['New Expansion'], inplace= True)"
   ]
  },
  {
   "cell_type": "code",
   "execution_count": 212,
   "metadata": {},
   "outputs": [
    {
     "data": {
      "text/html": [
       "<div>\n",
       "<style scoped>\n",
       "    .dataframe tbody tr th:only-of-type {\n",
       "        vertical-align: middle;\n",
       "    }\n",
       "\n",
       "    .dataframe tbody tr th {\n",
       "        vertical-align: top;\n",
       "    }\n",
       "\n",
       "    .dataframe thead th {\n",
       "        text-align: right;\n",
       "    }\n",
       "</style>\n",
       "<table border=\"1\" class=\"dataframe\">\n",
       "  <thead>\n",
       "    <tr style=\"text-align: right;\">\n",
       "      <th></th>\n",
       "      <th>Store ID</th>\n",
       "      <th>City</th>\n",
       "      <th>State</th>\n",
       "      <th>Sales Region</th>\n",
       "      <th>New Expansion</th>\n",
       "      <th>Marketing Spend</th>\n",
       "      <th>Revenue</th>\n",
       "    </tr>\n",
       "  </thead>\n",
       "  <tbody>\n",
       "    <tr>\n",
       "      <th>0</th>\n",
       "      <td>1</td>\n",
       "      <td>Peoria</td>\n",
       "      <td>Arizona</td>\n",
       "      <td>Region 2</td>\n",
       "      <td>Old</td>\n",
       "      <td>2601</td>\n",
       "      <td>48610</td>\n",
       "    </tr>\n",
       "    <tr>\n",
       "      <th>1</th>\n",
       "      <td>2</td>\n",
       "      <td>Midland</td>\n",
       "      <td>Texas</td>\n",
       "      <td>Region 2</td>\n",
       "      <td>Old</td>\n",
       "      <td>2727</td>\n",
       "      <td>45689</td>\n",
       "    </tr>\n",
       "    <tr>\n",
       "      <th>2</th>\n",
       "      <td>3</td>\n",
       "      <td>Spokane</td>\n",
       "      <td>Washington</td>\n",
       "      <td>Region 2</td>\n",
       "      <td>Old</td>\n",
       "      <td>2768</td>\n",
       "      <td>49554</td>\n",
       "    </tr>\n",
       "    <tr>\n",
       "      <th>3</th>\n",
       "      <td>4</td>\n",
       "      <td>Denton</td>\n",
       "      <td>Texas</td>\n",
       "      <td>Region 2</td>\n",
       "      <td>Old</td>\n",
       "      <td>2759</td>\n",
       "      <td>38284</td>\n",
       "    </tr>\n",
       "    <tr>\n",
       "      <th>4</th>\n",
       "      <td>5</td>\n",
       "      <td>Overland Park</td>\n",
       "      <td>Kansas</td>\n",
       "      <td>Region 2</td>\n",
       "      <td>Old</td>\n",
       "      <td>2869</td>\n",
       "      <td>59887</td>\n",
       "    </tr>\n",
       "    <tr>\n",
       "      <th>...</th>\n",
       "      <td>...</td>\n",
       "      <td>...</td>\n",
       "      <td>...</td>\n",
       "      <td>...</td>\n",
       "      <td>...</td>\n",
       "      <td>...</td>\n",
       "      <td>...</td>\n",
       "    </tr>\n",
       "    <tr>\n",
       "      <th>144</th>\n",
       "      <td>145</td>\n",
       "      <td>Glendale</td>\n",
       "      <td>California</td>\n",
       "      <td>Region 2</td>\n",
       "      <td>New</td>\n",
       "      <td>2363</td>\n",
       "      <td>49376</td>\n",
       "    </tr>\n",
       "    <tr>\n",
       "      <th>145</th>\n",
       "      <td>146</td>\n",
       "      <td>Paterson</td>\n",
       "      <td>New Jersey</td>\n",
       "      <td>Region 1</td>\n",
       "      <td>New</td>\n",
       "      <td>2251</td>\n",
       "      <td>34603</td>\n",
       "    </tr>\n",
       "    <tr>\n",
       "      <th>146</th>\n",
       "      <td>147</td>\n",
       "      <td>Brownsville</td>\n",
       "      <td>Texas</td>\n",
       "      <td>Region 2</td>\n",
       "      <td>New</td>\n",
       "      <td>3675</td>\n",
       "      <td>63148</td>\n",
       "    </tr>\n",
       "    <tr>\n",
       "      <th>147</th>\n",
       "      <td>148</td>\n",
       "      <td>Rockford</td>\n",
       "      <td>Illinois</td>\n",
       "      <td>Region 1</td>\n",
       "      <td>New</td>\n",
       "      <td>2648</td>\n",
       "      <td>43377</td>\n",
       "    </tr>\n",
       "    <tr>\n",
       "      <th>148</th>\n",
       "      <td>149</td>\n",
       "      <td>College Station</td>\n",
       "      <td>Texas</td>\n",
       "      <td>Region 2</td>\n",
       "      <td>New</td>\n",
       "      <td>2994</td>\n",
       "      <td>22457</td>\n",
       "    </tr>\n",
       "  </tbody>\n",
       "</table>\n",
       "<p>149 rows × 7 columns</p>\n",
       "</div>"
      ],
      "text/plain": [
       "     Store ID             City       State Sales Region New Expansion  \\\n",
       "0           1           Peoria     Arizona     Region 2           Old   \n",
       "1           2          Midland       Texas     Region 2           Old   \n",
       "2           3          Spokane  Washington     Region 2           Old   \n",
       "3           4           Denton       Texas     Region 2           Old   \n",
       "4           5    Overland Park      Kansas     Region 2           Old   \n",
       "..        ...              ...         ...          ...           ...   \n",
       "144       145         Glendale  California     Region 2           New   \n",
       "145       146         Paterson  New Jersey     Region 1           New   \n",
       "146       147      Brownsville       Texas     Region 2           New   \n",
       "147       148         Rockford    Illinois     Region 1           New   \n",
       "148       149  College Station       Texas     Region 2           New   \n",
       "\n",
       "     Marketing Spend  Revenue  \n",
       "0               2601    48610  \n",
       "1               2727    45689  \n",
       "2               2768    49554  \n",
       "3               2759    38284  \n",
       "4               2869    59887  \n",
       "..               ...      ...  \n",
       "144             2363    49376  \n",
       "145             2251    34603  \n",
       "146             3675    63148  \n",
       "147             2648    43377  \n",
       "148             2994    22457  \n",
       "\n",
       "[149 rows x 7 columns]"
      ]
     },
     "execution_count": 212,
     "metadata": {},
     "output_type": "execute_result"
    }
   ],
   "source": [
    "startup"
   ]
  },
  {
   "cell_type": "markdown",
   "metadata": {},
   "source": [
    "## EDA"
   ]
  },
  {
   "cell_type": "code",
   "execution_count": 213,
   "metadata": {},
   "outputs": [
    {
     "data": {
      "text/plain": [
       "<AxesSubplot:>"
      ]
     },
     "execution_count": 213,
     "metadata": {},
     "output_type": "execute_result"
    },
    {
     "data": {
      "image/png": "[encoded data removed]",
      "text/plain": [
       "<Figure size 432x288 with 1 Axes>"
      ]
     },
     "metadata": {
      "needs_background": "light"
     },
     "output_type": "display_data"
    }
   ],
   "source": [
    "startup['Sales Region'].value_counts().plot(kind='bar')"
   ]
  },
  {
   "cell_type": "code",
   "execution_count": 214,
   "metadata": {},
   "outputs": [
    {
     "data": {
      "text/plain": [
       "<AxesSubplot:>"
      ]
     },
     "execution_count": 214,
     "metadata": {},
     "output_type": "execute_result"
    },
    {
     "data": {
      "image/png": "[encoded data removed]",
      "text/plain": [
       "<Figure size 432x288 with 1 Axes>"
      ]
     },
     "metadata": {
      "needs_background": "light"
     },
     "output_type": "display_data"
    }
   ],
   "source": [
    "startup['New Expansion'].value_counts().plot(kind='bar')"
   ]
  },
  {
   "cell_type": "code",
   "execution_count": 215,
   "metadata": {},
   "outputs": [
    {
     "data": {
      "text/plain": [
       "<AxesSubplot:xlabel='State'>"
      ]
     },
     "execution_count": 215,
     "metadata": {},
     "output_type": "execute_result"
    },
    {
     "data": {
      "image/png": "[encoded data removed]",
      "text/plain": [
       "<Figure size 432x288 with 1 Axes>"
      ]
     },
     "metadata": {
      "needs_background": "light"
     },
     "output_type": "display_data"
    }
   ],
   "source": [
    "startup[startup['New Expansion']=='New'].groupby('State')['Revenue'].sum().plot(kind='bar')"
   ]
  },
  {
   "cell_type": "code",
   "execution_count": 216,
   "metadata": {},
   "outputs": [
    {
     "data": {
      "text/plain": [
       "<AxesSubplot:xlabel='State'>"
      ]
     },
     "execution_count": 216,
     "metadata": {},
     "output_type": "execute_result"
    },
    {
     "data": {
      "image/png": "[encoded data removed]",
      "text/plain": [
       "<Figure size 432x288 with 1 Axes>"
      ]
     },
     "metadata": {
      "needs_background": "light"
     },
     "output_type": "display_data"
    }
   ],
   "source": [
    "startup[startup['New Expansion']=='Old'].groupby('State')['Revenue'].sum().plot(kind='bar')"
   ]
  },
  {
   "cell_type": "markdown",
   "metadata": {},
   "source": [
    "## Create some measures"
   ]
  },
  {
   "cell_type": "code",
   "execution_count": 217,
   "metadata": {},
   "outputs": [],
   "source": [
    "# Add Profit column = Revenu - Amount spent\n",
    "startup['Profit'] = round(startup['Revenue'] - startup['Marketing Spend'],2)"
   ]
  },
  {
   "cell_type": "code",
   "execution_count": 218,
   "metadata": {},
   "outputs": [],
   "source": [
    "# Add New column ROI(return on investment) = (Net income / Amount spent) * 100\n",
    "startup['ROI'] = round((startup['Profit'] / startup['Marketing Spend']) * 100,2)"
   ]
  },
  {
   "cell_type": "code",
   "execution_count": 219,
   "metadata": {},
   "outputs": [],
   "source": [
    "startup['ROI %'] = startup['ROI'] / 100"
   ]
  },
  {
   "cell_type": "code",
   "execution_count": 220,
   "metadata": {},
   "outputs": [
    {
     "data": {
      "text/html": [
       "<div>\n",
       "<style scoped>\n",
       "    .dataframe tbody tr th:only-of-type {\n",
       "        vertical-align: middle;\n",
       "    }\n",
       "\n",
       "    .dataframe tbody tr th {\n",
       "        vertical-align: top;\n",
       "    }\n",
       "\n",
       "    .dataframe thead th {\n",
       "        text-align: right;\n",
       "    }\n",
       "</style>\n",
       "<table border=\"1\" class=\"dataframe\">\n",
       "  <thead>\n",
       "    <tr style=\"text-align: right;\">\n",
       "      <th></th>\n",
       "      <th>Store ID</th>\n",
       "      <th>City</th>\n",
       "      <th>State</th>\n",
       "      <th>Sales Region</th>\n",
       "      <th>New Expansion</th>\n",
       "      <th>Marketing Spend</th>\n",
       "      <th>Revenue</th>\n",
       "      <th>Profit</th>\n",
       "      <th>ROI</th>\n",
       "      <th>ROI %</th>\n",
       "    </tr>\n",
       "  </thead>\n",
       "  <tbody>\n",
       "    <tr>\n",
       "      <th>0</th>\n",
       "      <td>1</td>\n",
       "      <td>Peoria</td>\n",
       "      <td>Arizona</td>\n",
       "      <td>Region 2</td>\n",
       "      <td>Old</td>\n",
       "      <td>2601</td>\n",
       "      <td>48610</td>\n",
       "      <td>46009</td>\n",
       "      <td>1768.90</td>\n",
       "      <td>17.6890</td>\n",
       "    </tr>\n",
       "    <tr>\n",
       "      <th>1</th>\n",
       "      <td>2</td>\n",
       "      <td>Midland</td>\n",
       "      <td>Texas</td>\n",
       "      <td>Region 2</td>\n",
       "      <td>Old</td>\n",
       "      <td>2727</td>\n",
       "      <td>45689</td>\n",
       "      <td>42962</td>\n",
       "      <td>1575.43</td>\n",
       "      <td>15.7543</td>\n",
       "    </tr>\n",
       "    <tr>\n",
       "      <th>2</th>\n",
       "      <td>3</td>\n",
       "      <td>Spokane</td>\n",
       "      <td>Washington</td>\n",
       "      <td>Region 2</td>\n",
       "      <td>Old</td>\n",
       "      <td>2768</td>\n",
       "      <td>49554</td>\n",
       "      <td>46786</td>\n",
       "      <td>1690.25</td>\n",
       "      <td>16.9025</td>\n",
       "    </tr>\n",
       "    <tr>\n",
       "      <th>3</th>\n",
       "      <td>4</td>\n",
       "      <td>Denton</td>\n",
       "      <td>Texas</td>\n",
       "      <td>Region 2</td>\n",
       "      <td>Old</td>\n",
       "      <td>2759</td>\n",
       "      <td>38284</td>\n",
       "      <td>35525</td>\n",
       "      <td>1287.60</td>\n",
       "      <td>12.8760</td>\n",
       "    </tr>\n",
       "    <tr>\n",
       "      <th>4</th>\n",
       "      <td>5</td>\n",
       "      <td>Overland Park</td>\n",
       "      <td>Kansas</td>\n",
       "      <td>Region 2</td>\n",
       "      <td>Old</td>\n",
       "      <td>2869</td>\n",
       "      <td>59887</td>\n",
       "      <td>57018</td>\n",
       "      <td>1987.38</td>\n",
       "      <td>19.8738</td>\n",
       "    </tr>\n",
       "    <tr>\n",
       "      <th>...</th>\n",
       "      <td>...</td>\n",
       "      <td>...</td>\n",
       "      <td>...</td>\n",
       "      <td>...</td>\n",
       "      <td>...</td>\n",
       "      <td>...</td>\n",
       "      <td>...</td>\n",
       "      <td>...</td>\n",
       "      <td>...</td>\n",
       "      <td>...</td>\n",
       "    </tr>\n",
       "    <tr>\n",
       "      <th>144</th>\n",
       "      <td>145</td>\n",
       "      <td>Glendale</td>\n",
       "      <td>California</td>\n",
       "      <td>Region 2</td>\n",
       "      <td>New</td>\n",
       "      <td>2363</td>\n",
       "      <td>49376</td>\n",
       "      <td>47013</td>\n",
       "      <td>1989.55</td>\n",
       "      <td>19.8955</td>\n",
       "    </tr>\n",
       "    <tr>\n",
       "      <th>145</th>\n",
       "      <td>146</td>\n",
       "      <td>Paterson</td>\n",
       "      <td>New Jersey</td>\n",
       "      <td>Region 1</td>\n",
       "      <td>New</td>\n",
       "      <td>2251</td>\n",
       "      <td>34603</td>\n",
       "      <td>32352</td>\n",
       "      <td>1437.23</td>\n",
       "      <td>14.3723</td>\n",
       "    </tr>\n",
       "    <tr>\n",
       "      <th>146</th>\n",
       "      <td>147</td>\n",
       "      <td>Brownsville</td>\n",
       "      <td>Texas</td>\n",
       "      <td>Region 2</td>\n",
       "      <td>New</td>\n",
       "      <td>3675</td>\n",
       "      <td>63148</td>\n",
       "      <td>59473</td>\n",
       "      <td>1618.31</td>\n",
       "      <td>16.1831</td>\n",
       "    </tr>\n",
       "    <tr>\n",
       "      <th>147</th>\n",
       "      <td>148</td>\n",
       "      <td>Rockford</td>\n",
       "      <td>Illinois</td>\n",
       "      <td>Region 1</td>\n",
       "      <td>New</td>\n",
       "      <td>2648</td>\n",
       "      <td>43377</td>\n",
       "      <td>40729</td>\n",
       "      <td>1538.10</td>\n",
       "      <td>15.3810</td>\n",
       "    </tr>\n",
       "    <tr>\n",
       "      <th>148</th>\n",
       "      <td>149</td>\n",
       "      <td>College Station</td>\n",
       "      <td>Texas</td>\n",
       "      <td>Region 2</td>\n",
       "      <td>New</td>\n",
       "      <td>2994</td>\n",
       "      <td>22457</td>\n",
       "      <td>19463</td>\n",
       "      <td>650.07</td>\n",
       "      <td>6.5007</td>\n",
       "    </tr>\n",
       "  </tbody>\n",
       "</table>\n",
       "<p>149 rows × 10 columns</p>\n",
       "</div>"
      ],
      "text/plain": [
       "     Store ID             City       State Sales Region New Expansion  \\\n",
       "0           1           Peoria     Arizona     Region 2           Old   \n",
       "1           2          Midland       Texas     Region 2           Old   \n",
       "2           3          Spokane  Washington     Region 2           Old   \n",
       "3           4           Denton       Texas     Region 2           Old   \n",
       "4           5    Overland Park      Kansas     Region 2           Old   \n",
       "..        ...              ...         ...          ...           ...   \n",
       "144       145         Glendale  California     Region 2           New   \n",
       "145       146         Paterson  New Jersey     Region 1           New   \n",
       "146       147      Brownsville       Texas     Region 2           New   \n",
       "147       148         Rockford    Illinois     Region 1           New   \n",
       "148       149  College Station       Texas     Region 2           New   \n",
       "\n",
       "     Marketing Spend  Revenue  Profit      ROI    ROI %  \n",
       "0               2601    48610   46009  1768.90  17.6890  \n",
       "1               2727    45689   42962  1575.43  15.7543  \n",
       "2               2768    49554   46786  1690.25  16.9025  \n",
       "3               2759    38284   35525  1287.60  12.8760  \n",
       "4               2869    59887   57018  1987.38  19.8738  \n",
       "..               ...      ...     ...      ...      ...  \n",
       "144             2363    49376   47013  1989.55  19.8955  \n",
       "145             2251    34603   32352  1437.23  14.3723  \n",
       "146             3675    63148   59473  1618.31  16.1831  \n",
       "147             2648    43377   40729  1538.10  15.3810  \n",
       "148             2994    22457   19463   650.07   6.5007  \n",
       "\n",
       "[149 rows x 10 columns]"
      ]
     },
     "execution_count": 220,
     "metadata": {},
     "output_type": "execute_result"
    }
   ],
   "source": [
    "startup"
   ]
  },
  {
   "cell_type": "code",
   "execution_count": 224,
   "metadata": {},
   "outputs": [],
   "source": [
    "startup.to_csv('startup-expansion-modified.csv')"
   ]
  },
  {
   "cell_type": "markdown",
   "metadata": {},
   "source": [
    "## Go To PowerBI to Generate Dashboard"
   ]
  }
 ],
 "metadata": {
  "kernelspec": {
   "display_name": "Python 3",
   "language": "python",
   "name": "python3"
  },
  "language_info": {
   "codemirror_mode": {
    "name": "ipython",
    "version": 3
   },
   "file_extension": ".py",
   "mimetype": "text/x-python",
   "name": "python",
   "nbconvert_exporter": "python",
   "pygments_lexer": "ipython3",
   "version": "3.8.3"
  }
 },
 "nbformat": 4,
 "nbformat_minor": 4
}
